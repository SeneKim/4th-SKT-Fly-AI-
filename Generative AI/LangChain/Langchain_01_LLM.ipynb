{
  "nbformat": 4,
  "nbformat_minor": 0,
  "metadata": {
    "colab": {
      "provenance": []
    },
    "kernelspec": {
      "name": "python3",
      "display_name": "Python 3"
    },
    "language_info": {
      "name": "python"
    }
  },
  "cells": [
    {
      "cell_type": "code",
      "execution_count": null,
      "metadata": {
        "colab": {
          "base_uri": "https://localhost:8080/"
        },
        "id": "WCBTudcFv9HK",
        "outputId": "5ae7aaed-de81-4ddc-a410-590894d0e36b"
      },
      "outputs": [
        {
          "output_type": "stream",
          "name": "stdout",
          "text": [
            "Collecting openai\n",
            "  Downloading openai-1.10.0-py3-none-any.whl (225 kB)\n",
            "\u001b[2K     \u001b[90m━━━━━━━━━━━━━━━━━━━━━━━━━━━━━━━━━━━━━━━━\u001b[0m \u001b[32m225.1/225.1 kB\u001b[0m \u001b[31m3.0 MB/s\u001b[0m eta \u001b[36m0:00:00\u001b[0m\n",
            "\u001b[?25hRequirement already satisfied: anyio<5,>=3.5.0 in /usr/local/lib/python3.10/dist-packages (from openai) (3.7.1)\n",
            "Requirement already satisfied: distro<2,>=1.7.0 in /usr/lib/python3/dist-packages (from openai) (1.7.0)\n",
            "Collecting httpx<1,>=0.23.0 (from openai)\n",
            "  Downloading httpx-0.26.0-py3-none-any.whl (75 kB)\n",
            "\u001b[2K     \u001b[90m━━━━━━━━━━━━━━━━━━━━━━━━━━━━━━━━━━━━━━━━\u001b[0m \u001b[32m75.9/75.9 kB\u001b[0m \u001b[31m5.4 MB/s\u001b[0m eta \u001b[36m0:00:00\u001b[0m\n",
            "\u001b[?25hRequirement already satisfied: pydantic<3,>=1.9.0 in /usr/local/lib/python3.10/dist-packages (from openai) (1.10.14)\n",
            "Requirement already satisfied: sniffio in /usr/local/lib/python3.10/dist-packages (from openai) (1.3.0)\n",
            "Requirement already satisfied: tqdm>4 in /usr/local/lib/python3.10/dist-packages (from openai) (4.66.1)\n",
            "Collecting typing-extensions<5,>=4.7 (from openai)\n",
            "  Downloading typing_extensions-4.9.0-py3-none-any.whl (32 kB)\n",
            "Requirement already satisfied: idna>=2.8 in /usr/local/lib/python3.10/dist-packages (from anyio<5,>=3.5.0->openai) (3.6)\n",
            "Requirement already satisfied: exceptiongroup in /usr/local/lib/python3.10/dist-packages (from anyio<5,>=3.5.0->openai) (1.2.0)\n",
            "Requirement already satisfied: certifi in /usr/local/lib/python3.10/dist-packages (from httpx<1,>=0.23.0->openai) (2023.11.17)\n",
            "Collecting httpcore==1.* (from httpx<1,>=0.23.0->openai)\n",
            "  Downloading httpcore-1.0.2-py3-none-any.whl (76 kB)\n",
            "\u001b[2K     \u001b[90m━━━━━━━━━━━━━━━━━━━━━━━━━━━━━━━━━━━━━━━━\u001b[0m \u001b[32m76.9/76.9 kB\u001b[0m \u001b[31m6.1 MB/s\u001b[0m eta \u001b[36m0:00:00\u001b[0m\n",
            "\u001b[?25hCollecting h11<0.15,>=0.13 (from httpcore==1.*->httpx<1,>=0.23.0->openai)\n",
            "  Downloading h11-0.14.0-py3-none-any.whl (58 kB)\n",
            "\u001b[2K     \u001b[90m━━━━━━━━━━━━━━━━━━━━━━━━━━━━━━━━━━━━━━━━\u001b[0m \u001b[32m58.3/58.3 kB\u001b[0m \u001b[31m5.5 MB/s\u001b[0m eta \u001b[36m0:00:00\u001b[0m\n",
            "\u001b[?25hInstalling collected packages: typing-extensions, h11, httpcore, httpx, openai\n",
            "  Attempting uninstall: typing-extensions\n",
            "    Found existing installation: typing_extensions 4.5.0\n",
            "    Uninstalling typing_extensions-4.5.0:\n",
            "      Successfully uninstalled typing_extensions-4.5.0\n",
            "\u001b[31mERROR: pip's dependency resolver does not currently take into account all the packages that are installed. This behaviour is the source of the following dependency conflicts.\n",
            "llmx 0.0.15a0 requires cohere, which is not installed.\n",
            "llmx 0.0.15a0 requires tiktoken, which is not installed.\n",
            "tensorflow-probability 0.22.0 requires typing-extensions<4.6.0, but you have typing-extensions 4.9.0 which is incompatible.\u001b[0m\u001b[31m\n",
            "\u001b[0mSuccessfully installed h11-0.14.0 httpcore-1.0.2 httpx-0.26.0 openai-1.10.0 typing-extensions-4.9.0\n"
          ]
        }
      ],
      "source": [
        "!pip install openai"
      ]
    },
    {
      "cell_type": "code",
      "source": [
        "!pip install langchain"
      ],
      "metadata": {
        "colab": {
          "base_uri": "https://localhost:8080/"
        },
        "id": "vzhr9bOAxISi",
        "outputId": "e6e3fab2-6a00-491f-a012-31f0eb5bbc9e"
      },
      "execution_count": null,
      "outputs": [
        {
          "output_type": "stream",
          "name": "stdout",
          "text": [
            "Collecting langchain\n",
            "  Downloading langchain-0.1.4-py3-none-any.whl (803 kB)\n",
            "\u001b[?25l     \u001b[90m━━━━━━━━━━━━━━━━━━━━━━━━━━━━━━━━━━━━━━━━\u001b[0m \u001b[32m0.0/803.6 kB\u001b[0m \u001b[31m?\u001b[0m eta \u001b[36m-:--:--\u001b[0m\r\u001b[2K     \u001b[91m━━━━━━━━━━━\u001b[0m\u001b[90m╺\u001b[0m\u001b[90m━━━━━━━━━━━━━━━━━━━━━━━━━━━━\u001b[0m \u001b[32m225.3/803.6 kB\u001b[0m \u001b[31m6.7 MB/s\u001b[0m eta \u001b[36m0:00:01\u001b[0m\r\u001b[2K     \u001b[91m━━━━━━━━━━━━━━━━━━━━━━━━━━━━━━━━━━━━━━━\u001b[0m\u001b[91m╸\u001b[0m \u001b[32m798.7/803.6 kB\u001b[0m \u001b[31m11.8 MB/s\u001b[0m eta \u001b[36m0:00:01\u001b[0m\r\u001b[2K     \u001b[90m━━━━━━━━━━━━━━━━━━━━━━━━━━━━━━━━━━━━━━━━\u001b[0m \u001b[32m803.6/803.6 kB\u001b[0m \u001b[31m9.6 MB/s\u001b[0m eta \u001b[36m0:00:00\u001b[0m\n",
            "\u001b[?25hRequirement already satisfied: PyYAML>=5.3 in /usr/local/lib/python3.10/dist-packages (from langchain) (6.0.1)\n",
            "Requirement already satisfied: SQLAlchemy<3,>=1.4 in /usr/local/lib/python3.10/dist-packages (from langchain) (2.0.24)\n",
            "Requirement already satisfied: aiohttp<4.0.0,>=3.8.3 in /usr/local/lib/python3.10/dist-packages (from langchain) (3.9.1)\n",
            "Requirement already satisfied: async-timeout<5.0.0,>=4.0.0 in /usr/local/lib/python3.10/dist-packages (from langchain) (4.0.3)\n",
            "Collecting dataclasses-json<0.7,>=0.5.7 (from langchain)\n",
            "  Downloading dataclasses_json-0.6.3-py3-none-any.whl (28 kB)\n",
            "Collecting jsonpatch<2.0,>=1.33 (from langchain)\n",
            "  Downloading jsonpatch-1.33-py2.py3-none-any.whl (12 kB)\n",
            "Collecting langchain-community<0.1,>=0.0.14 (from langchain)\n",
            "  Downloading langchain_community-0.0.16-py3-none-any.whl (1.6 MB)\n",
            "\u001b[2K     \u001b[90m━━━━━━━━━━━━━━━━━━━━━━━━━━━━━━━━━━━━━━━━\u001b[0m \u001b[32m1.6/1.6 MB\u001b[0m \u001b[31m24.7 MB/s\u001b[0m eta \u001b[36m0:00:00\u001b[0m\n",
            "\u001b[?25hCollecting langchain-core<0.2,>=0.1.16 (from langchain)\n",
            "  Downloading langchain_core-0.1.17-py3-none-any.whl (235 kB)\n",
            "\u001b[2K     \u001b[90m━━━━━━━━━━━━━━━━━━━━━━━━━━━━━━━━━━━━━━━━\u001b[0m \u001b[32m235.9/235.9 kB\u001b[0m \u001b[31m18.9 MB/s\u001b[0m eta \u001b[36m0:00:00\u001b[0m\n",
            "\u001b[?25hCollecting langsmith<0.1,>=0.0.83 (from langchain)\n",
            "  Downloading langsmith-0.0.84-py3-none-any.whl (53 kB)\n",
            "\u001b[2K     \u001b[90m━━━━━━━━━━━━━━━━━━━━━━━━━━━━━━━━━━━━━━━━\u001b[0m \u001b[32m54.0/54.0 kB\u001b[0m \u001b[31m8.0 MB/s\u001b[0m eta \u001b[36m0:00:00\u001b[0m\n",
            "\u001b[?25hRequirement already satisfied: numpy<2,>=1 in /usr/local/lib/python3.10/dist-packages (from langchain) (1.23.5)\n",
            "Requirement already satisfied: pydantic<3,>=1 in /usr/local/lib/python3.10/dist-packages (from langchain) (1.10.14)\n",
            "Requirement already satisfied: requests<3,>=2 in /usr/local/lib/python3.10/dist-packages (from langchain) (2.31.0)\n",
            "Requirement already satisfied: tenacity<9.0.0,>=8.1.0 in /usr/local/lib/python3.10/dist-packages (from langchain) (8.2.3)\n",
            "Requirement already satisfied: attrs>=17.3.0 in /usr/local/lib/python3.10/dist-packages (from aiohttp<4.0.0,>=3.8.3->langchain) (23.2.0)\n",
            "Requirement already satisfied: multidict<7.0,>=4.5 in /usr/local/lib/python3.10/dist-packages (from aiohttp<4.0.0,>=3.8.3->langchain) (6.0.4)\n",
            "Requirement already satisfied: yarl<2.0,>=1.0 in /usr/local/lib/python3.10/dist-packages (from aiohttp<4.0.0,>=3.8.3->langchain) (1.9.4)\n",
            "Requirement already satisfied: frozenlist>=1.1.1 in /usr/local/lib/python3.10/dist-packages (from aiohttp<4.0.0,>=3.8.3->langchain) (1.4.1)\n",
            "Requirement already satisfied: aiosignal>=1.1.2 in /usr/local/lib/python3.10/dist-packages (from aiohttp<4.0.0,>=3.8.3->langchain) (1.3.1)\n",
            "Collecting marshmallow<4.0.0,>=3.18.0 (from dataclasses-json<0.7,>=0.5.7->langchain)\n",
            "  Downloading marshmallow-3.20.2-py3-none-any.whl (49 kB)\n",
            "\u001b[2K     \u001b[90m━━━━━━━━━━━━━━━━━━━━━━━━━━━━━━━━━━━━━━━━\u001b[0m \u001b[32m49.4/49.4 kB\u001b[0m \u001b[31m7.0 MB/s\u001b[0m eta \u001b[36m0:00:00\u001b[0m\n",
            "\u001b[?25hCollecting typing-inspect<1,>=0.4.0 (from dataclasses-json<0.7,>=0.5.7->langchain)\n",
            "  Downloading typing_inspect-0.9.0-py3-none-any.whl (8.8 kB)\n",
            "Collecting jsonpointer>=1.9 (from jsonpatch<2.0,>=1.33->langchain)\n",
            "  Downloading jsonpointer-2.4-py2.py3-none-any.whl (7.8 kB)\n",
            "Requirement already satisfied: anyio<5,>=3 in /usr/local/lib/python3.10/dist-packages (from langchain-core<0.2,>=0.1.16->langchain) (3.7.1)\n",
            "Requirement already satisfied: packaging<24.0,>=23.2 in /usr/local/lib/python3.10/dist-packages (from langchain-core<0.2,>=0.1.16->langchain) (23.2)\n",
            "Requirement already satisfied: typing-extensions>=4.2.0 in /usr/local/lib/python3.10/dist-packages (from pydantic<3,>=1->langchain) (4.9.0)\n",
            "Requirement already satisfied: charset-normalizer<4,>=2 in /usr/local/lib/python3.10/dist-packages (from requests<3,>=2->langchain) (3.3.2)\n",
            "Requirement already satisfied: idna<4,>=2.5 in /usr/local/lib/python3.10/dist-packages (from requests<3,>=2->langchain) (3.6)\n",
            "Requirement already satisfied: urllib3<3,>=1.21.1 in /usr/local/lib/python3.10/dist-packages (from requests<3,>=2->langchain) (2.0.7)\n",
            "Requirement already satisfied: certifi>=2017.4.17 in /usr/local/lib/python3.10/dist-packages (from requests<3,>=2->langchain) (2023.11.17)\n",
            "Requirement already satisfied: greenlet!=0.4.17 in /usr/local/lib/python3.10/dist-packages (from SQLAlchemy<3,>=1.4->langchain) (3.0.3)\n",
            "Requirement already satisfied: sniffio>=1.1 in /usr/local/lib/python3.10/dist-packages (from anyio<5,>=3->langchain-core<0.2,>=0.1.16->langchain) (1.3.0)\n",
            "Requirement already satisfied: exceptiongroup in /usr/local/lib/python3.10/dist-packages (from anyio<5,>=3->langchain-core<0.2,>=0.1.16->langchain) (1.2.0)\n",
            "Collecting mypy-extensions>=0.3.0 (from typing-inspect<1,>=0.4.0->dataclasses-json<0.7,>=0.5.7->langchain)\n",
            "  Downloading mypy_extensions-1.0.0-py3-none-any.whl (4.7 kB)\n",
            "Installing collected packages: mypy-extensions, marshmallow, jsonpointer, typing-inspect, langsmith, jsonpatch, langchain-core, dataclasses-json, langchain-community, langchain\n",
            "Successfully installed dataclasses-json-0.6.3 jsonpatch-1.33 jsonpointer-2.4 langchain-0.1.4 langchain-community-0.0.16 langchain-core-0.1.17 langsmith-0.0.84 marshmallow-3.20.2 mypy-extensions-1.0.0 typing-inspect-0.9.0\n"
          ]
        }
      ]
    },
    {
      "cell_type": "markdown",
      "source": [
        "## 간단한 응답 생성해보기"
      ],
      "metadata": {
        "id": "pcxR7j4t4WYA"
      }
    },
    {
      "cell_type": "code",
      "source": [
        "import os\n",
        "\n",
        "# 환경변수 세팅하기\n",
        "os.environ['OPENAI_API_KEY'] = 'OPENAI_API_KEY'\n",
        "os.environ['AZURE_OPENAI_ENDPOINT'] = 'AZURE_OPENAI_ENDPOINT'\n",
        "os.environ['OPENAI_API_TYPE'] = 'azure'\n",
        "os.environ['OPENAI_API_VERSION'] = '2023-05-15'"
      ],
      "metadata": {
        "id": "-K_yEL9Kxadl"
      },
      "execution_count": null,
      "outputs": []
    },
    {
      "cell_type": "code",
      "source": [
        "from langchain.llms import AzureOpenAI\n",
        "\n",
        "llm = AzureOpenAI(\n",
        "    deployment_name='dev-gpt-35-turbo-instruct'\n",
        ")\n",
        "llm.invoke('Why python is the most popular language?')"
      ],
      "metadata": {
        "colab": {
          "base_uri": "https://localhost:8080/",
          "height": 163
        },
        "id": "pEMlZrcs2E8S",
        "outputId": "b77675dc-ea53-4775-feb9-3beb007d931d"
      },
      "execution_count": null,
      "outputs": [
        {
          "output_type": "execute_result",
          "data": {
            "text/plain": [
              "'\\n\\n1. Easy to Learn and Use: Python is a simple and easy-to-learn language, making it a popular choice for beginners. Its syntax is clear and concise, and it requires less code compared to other programming languages.\\n\\n2. Versatile and Flexible: Python is a versatile language that can be used for a wide range of applications, including web development, data analysis, machine learning, artificial intelligence, and more.\\n\\n3. Large and Active Community: Python has a large and active community of developers, which means there is a vast amount of resources and support available for beginners and experienced programmers alike.\\n\\n4. Extensive Libraries and Frameworks: Python has a vast collection of libraries and frameworks that make it easy to develop applications quickly and efficiently. These libraries cover a wide range of areas, from web development to data science.\\n\\n5. Cross-Platform Compatibility: Python is a cross-platform language, meaning it can run on different operating systems, such as Windows, Mac, and Linux. This makes it an ideal choice for building applications that need to run on multiple platforms.\\n\\n6. High Demand in the Job Market: With the rise of data science, machine learning, and artificial intelligence, there is an increasing demand for Python developers in the job market. This has contributed to its'"
            ],
            "application/vnd.google.colaboratory.intrinsic+json": {
              "type": "string"
            }
          },
          "metadata": {},
          "execution_count": 6
        }
      ]
    },
    {
      "cell_type": "markdown",
      "source": [
        "언어 모델의 사이즈\\\n",
        "GPT4 > GPT3.5 > Davinci > Babbage > Ada"
      ],
      "metadata": {
        "id": "w75rgUMc3APb"
      }
    },
    {
      "cell_type": "markdown",
      "source": [
        "## 대화해보기"
      ],
      "metadata": {
        "id": "o-2qeF0D4Yvh"
      }
    },
    {
      "cell_type": "code",
      "source": [
        "from langchain.chat_models import AzureChatOpenAI\n",
        "\n",
        "# 배포한 모델 이름 적어주\n",
        "chatgpt = AzureChatOpenAI(\n",
        "    deployment_name = 'dev-gpt-35-turbo'\n",
        ")\n",
        "\n",
        "# 모델을 사용하겠다! -> invoke\n",
        "answer = chatgpt.invoke('Why Python is the most popular language')\n",
        "\n",
        "# 메세지의 구조를 보고 원하는 요소를 뽑아낼 수 있어야 한다.\n",
        "print(answer.content)"
      ],
      "metadata": {
        "colab": {
          "base_uri": "https://localhost:8080/"
        },
        "id": "3RInMTVi32L9",
        "outputId": "0b9e12e7-dbe3-4ebc-f014-c0a41c1193e5"
      },
      "execution_count": null,
      "outputs": [
        {
          "output_type": "stream",
          "name": "stdout",
          "text": [
            "Python is the most popular programming language for several reasons:\n",
            "\n",
            "1. Easy to Learn and Use: Python has a simple syntax and straightforward programming principles, making it easy for beginners to pick up and understand. It emphasizes readability and simplicity, which reduces the learning curve and allows developers to write clean and concise code.\n",
            "\n",
            "2. Versatility: Python can be used for a wide range of applications, such as web development, data analysis, artificial intelligence, machine learning, scientific computing, and more. Its versatility makes it suitable for both small-scale projects and large-scale enterprise applications.\n",
            "\n",
            "3. Large and Active Community: Python has a large and active community of developers who contribute to its growth and popularity. This community provides extensive support, resources, and libraries, making it easier for developers to solve problems, learn new techniques, and accelerate their development process.\n",
            "\n",
            "4. Strong Library Ecosystem: Python offers a vast collection of libraries and frameworks that simplify the development process and provide ready-to-use solutions for various tasks. Popular libraries like NumPy, Pandas, TensorFlow, Django, Flask, and Matplotlib make it easy to handle complex operations, handle data, build web applications, and create visualizations.\n",
            "\n",
            "5. Integration and Compatibility: Python can seamlessly integrate with other languages like C, C++, Java, and more. This allows developers to leverage existing code and libraries written in other languages, making Python a flexible choice for integration with different software systems.\n",
            "\n",
            "6. Career Opportunities: Python's popularity has led to an increased demand for Python developers in the job market. Many companies and industries are adopting Python for their projects, creating a high demand for skilled Python developers. Learning Python can lead to various career opportunities and job prospects.\n",
            "\n",
            "7. Open-source and Free: Python is an open-source language, which means it is free to use and distribute. This accessibility has contributed to its popularity, as developers can start coding in Python without any financial barriers and can contribute to the language's development.\n",
            "\n",
            "Overall, Python's simplicity, versatility, strong community support, and extensive library ecosystem have contributed to its popularity, making it the most favored programming language by developers worldwide.\n"
          ]
        }
      ]
    },
    {
      "cell_type": "code",
      "source": [
        "# 따뜻한 AI~\n",
        "warming_chatgpt = AzureChatOpenAI(\n",
        "    deployment_name = 'dev-gpt-35-turbo',\n",
        "    temperature = 1\n",
        ")\n",
        "answer2 = warming_chatgpt.invoke('Why Python is the most popular language? answer the Korean.')\n",
        "print(answer2.content)"
      ],
      "metadata": {
        "colab": {
          "base_uri": "https://localhost:8080/"
        },
        "id": "5R5y6ln5473E",
        "outputId": "6518f2e7-c2f6-41f1-ccb2-f2703cd70033"
      },
      "execution_count": null,
      "outputs": [
        {
          "output_type": "stream",
          "name": "stdout",
          "text": [
            "파이썬은 최고의 인기를 누리는 프로그래밍 언어인 이유가 다양합니다. 우선 파이썬은 배우기 쉽고 읽기 쉬운 문법 구조를 가지고 있습니다. 이는 초보 개발자 뿐만 아니라 전문 개발자에게도 매우 유용합니다.\n",
            "\n",
            "파이썬은 또한 업계에서 널리 사용되는 라이브러리와 프레임워크를 많이 지원합니다. 데이터 과학, 인공지능, 웹 개발 등 다양한 분야에서 사용되는 라이브러리들은 파이썬을 쉽고 효율적으로 활용할 수 있는 방법을 제공합니다.\n",
            "\n",
            "또한 파이썬은 크로스 플랫폼 언어로, 여러 운영체제에서 동작할 수 있습니다. 이는 개발자들이 자신이 원하는 플랫폼에서 작업할 수 있도록 유연성을 제공합니다. \n",
            "\n",
            "파이썬은 커뮤니티의 지속적인 지원과 업데이트로 유지됩니다. 파이썬 개발자들은 다른 사람과 지식을 공유하고 협력하기 쉽도록 돕는 활발한 개방형 커뮤니티를 형성하고 있습니다. 이는 프로그래머들이 서로 도움을 받을 수 있는 환경을 제공합니다.\n",
            "\n",
            "마지막으로 파이썬은 다양한 분야에서 활용되는 범용 프로그래밍 언어입니다. 데이터 분석, 웹 개발, 자동화, 게임 개발 등 다양한 분야에서 파이썬을 사용하여 작업할 수 있습니다. 이는 파이썬을 더욱 인기있는 언어로 만드는 요인 중 하나입니다.\n",
            "\n",
            "이러한 이유들로 인해 파이썬은 현재 가장 인기 있는 프로그래밍 언어 중 하나입니다.\n"
          ]
        }
      ]
    },
    {
      "cell_type": "markdown",
      "source": [
        "## 하나씩 출력하도록!"
      ],
      "metadata": {
        "id": "hxgWIaiF-5JV"
      }
    },
    {
      "cell_type": "code",
      "source": [
        "# 이걸 사용함으로써 콜백을 내가 조절해줄 수 있다.\n",
        "from langchain.callbacks.streaming_stdout import StreamingStdOutCallbackHandler\n",
        "\n",
        "chatgpt = AzureChatOpenAI(\n",
        "    deployment_name= 'dev-gpt-35-turbo',\n",
        "    temperature = 1,\n",
        "    streaming=True,\n",
        "    callbacks=[StreamingStdOutCallbackHandler()]\n",
        ")\n",
        "\n",
        "# print 문이 필요 없다.\n",
        "# 데이터를 하나하나 바로 받아와서 뿌려준다. -> streaming!\n",
        "answer = chatgpt.invoke('Why Python is the most popular language? answer the Korean')"
      ],
      "metadata": {
        "colab": {
          "base_uri": "https://localhost:8080/"
        },
        "id": "ifVCyA1S6pSj",
        "outputId": "36f24d99-3eee-4b46-fa18-e68d7ff7e8f2"
      },
      "execution_count": null,
      "outputs": [
        {
          "output_type": "stream",
          "name": "stdout",
          "text": [
            "Python은 가장 인기있는 언어이기도 한 이유는 사용이 간편하고 직관적이기 때문입니다. 파이썬은 문법이 간결하고 읽고 쓰기 쉬워 초보자들도 쉽게 배울 수 있습니다. 또한 파이썬은 다양한 운영체제에서 사용할 수 있으며, 범용적이고 유연한 언어로 여러 분야에 적용되기 때문에 매우 다양한 작업을 처리할 수 있습니다. 더불어 파이썬은 대규모 프로젝트에도 사용될 수 있는 확장성과 모듈성을 갖추고 있습니다. 이러한 이유로 파이썬은 데이터 분석, 웹 개발, 인공지능 등 다양한 분야에서 폭넓게 사용되고 있으며, 커뮤니티 역시 활발하게 활동하고 있습니다. 이러한 장점들이 모여 Python은 가장 인기 있는 프로그래밍 언어로 선호되는 것입니다."
          ]
        }
      ]
    },
    {
      "cell_type": "markdown",
      "source": [
        "## Message를 좀 더 체계적으로 주고 받고 싶다"
      ],
      "metadata": {
        "id": "Cx9ctSe3Bsoz"
      }
    },
    {
      "cell_type": "code",
      "source": [
        "from langchain.chat_models import AzureChatOpenAI\n",
        "from langchain.schema import SystemMessage, AIMessage, HumanMessage\n",
        "\n",
        "chatgpt = AzureChatOpenAI(\n",
        "    deployment_name= 'dev-gpt-35-turbo',\n",
        "    temperature = 0\n",
        ")\n",
        "\n",
        "message = [\n",
        "    # 한 번 정의해놓으면 계속 system으로 흘러간다.\n",
        "    # 페르소나 정의: 여기서는 번역\n",
        "    SystemMessage(content='You are a helpful assistant that translate English to Korean'),\n",
        "    HumanMessage(content = \"I love langchain.\")\n",
        "]\n",
        "\n",
        "response = chatgpt(message)\n",
        "print(response.content)"
      ],
      "metadata": {
        "colab": {
          "base_uri": "https://localhost:8080/"
        },
        "id": "v6nkjTGJAUXu",
        "outputId": "cc469f05-9c2d-4cca-b8be-292c1e0dc821"
      },
      "execution_count": null,
      "outputs": [
        {
          "output_type": "stream",
          "name": "stdout",
          "text": [
            "저는 랭체인을 사랑합니다.\n"
          ]
        }
      ]
    },
    {
      "cell_type": "code",
      "source": [
        "chatgpt = AzureChatOpenAI(\n",
        "    deployment_name= 'dev-gpt-35-turbo',\n",
        "    temperature = 1,\n",
        "    streaming=True,\n",
        "    callbacks=[StreamingStdOutCallbackHandler()]\n",
        ")\n",
        "\n",
        "message = [\n",
        "    SystemMessage(content='당신은 공부 계획을 세워주는 스터디 플래너 머신입니다. 사용자의 공부 주제를 입력받으면 이를 학습하기 위한 공부 계획을 세워줍니다.'),\n",
        "    HumanMessage(content=\"Large Language Model에 대해서 공부하고 싶어요\")\n",
        "]\n",
        "\n",
        "answer = chatgpt(message)"
      ],
      "metadata": {
        "colab": {
          "base_uri": "https://localhost:8080/"
        },
        "id": "8Ff_fMBICqyn",
        "outputId": "b4201bdf-2e56-44a4-ab91-851c0bde0014"
      },
      "execution_count": null,
      "outputs": [
        {
          "output_type": "stream",
          "name": "stdout",
          "text": [
            "좋습니다! Large Language Model을 공부하기 위한 공부 계획을 세워드리겠습니다.\n",
            "\n",
            "1. 기본 개념 이해: \n",
            "   - Large Language Model이 무엇인지, 어떻게 작동하는지 등에 대한 기본 개념을 학습하세요. 관련된 논문을 읽고 큰 그림을 파악해보세요.\n",
            "\n",
            "2. 통계 및 자연어 처리 지식 습득:\n",
            "   - Large Language Model을 구현하고 이해하기 위해서는 통계와 자연어 처리에 대한 기본적인 지식이 필요합니다. 이를 위해 관련 책이나 강의를 찾아보고 학습하세요.\n",
            "\n",
            "3. 주요 모델 이해:\n",
            "   - GPT-3, BERT 등 주요한 Large Language Model에 대해 자세히 알아보세요. 이 모델들이 어떻게 작동하고 개선되어왔는지 학습해보세요.\n",
            "\n",
            "4. 구현과 실험:\n",
            "   - 실제로 Large Language Model을 구현해보고 실험해보세요. 예제 코드나 튜토리얼을 따라하며 실습해보면서 이해도를 높일 수 있습니다.\n",
            "\n",
            "5. 최신 연구 동향 파악:\n",
            "   - Large Language Model은 계속해서 발전하고 있습니다. 최신 논문을 읽거나 블로그, 포럼 등을 통해 최신 연구 동향을 파악하세요. 관련 기술의 최신 동향을 익히는 것이 중요합니다.\n",
            "\n",
            "6. 프로젝트 구현:\n",
            "   - 학습한 내용을 바탕으로 스스로 프로젝트를 구상하고 구현해보세요. Large Language Model을 사용하여 자연어 처리나 생성 과제를 해결해볼 수 있습니다.\n",
            "\n",
            "7. 토론 및 공유:\n",
            "   - 커뮤니티나 스터디 그룹에 가입하여 Large Language Model에 대해 토론하고 공유하세요. 다른 사람들과 함께 공부하고 의견을 나누는 것은 더욱 효과적인 학습 방법입니다.\n",
            "\n",
            "이러한 계획을 따라가며 일정을 적절히 조절하면 Large Language Model에 대한 이해를 높일 수 있을 것입니다. 행운을 빕니다!"
          ]
        }
      ]
    },
    {
      "cell_type": "code",
      "source": [],
      "metadata": {
        "id": "3rIeIp1GD9Ru"
      },
      "execution_count": null,
      "outputs": []
    }
  ]
}
