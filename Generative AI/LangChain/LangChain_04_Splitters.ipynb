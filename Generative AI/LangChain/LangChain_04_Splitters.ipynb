{
  "nbformat": 4,
  "nbformat_minor": 0,
  "metadata": {
    "colab": {
      "provenance": []
    },
    "kernelspec": {
      "name": "python3",
      "display_name": "Python 3"
    },
    "language_info": {
      "name": "python"
    }
  },
  "cells": [
    {
      "cell_type": "code",
      "execution_count": null,
      "metadata": {
        "id": "oF6ToS9K5oxg"
      },
      "outputs": [],
      "source": [
        "!pip install langchain"
      ]
    },
    {
      "cell_type": "code",
      "source": [
        "!pip install pypdf"
      ],
      "metadata": {
        "colab": {
          "base_uri": "https://localhost:8080/"
        },
        "id": "K7Kb1nQe50Rb",
        "outputId": "69fcc5c1-1a97-4a7b-ba31-ef3c052cc88a"
      },
      "execution_count": null,
      "outputs": [
        {
          "output_type": "stream",
          "name": "stdout",
          "text": [
            "Collecting pypdf\n",
            "  Downloading pypdf-4.0.1-py3-none-any.whl (283 kB)\n",
            "\u001b[2K     \u001b[90m━━━━━━━━━━━━━━━━━━━━━━━━━━━━━━━━━━━━━━━━\u001b[0m \u001b[32m284.0/284.0 kB\u001b[0m \u001b[31m2.6 MB/s\u001b[0m eta \u001b[36m0:00:00\u001b[0m\n",
            "\u001b[?25hInstalling collected packages: pypdf\n",
            "Successfully installed pypdf-4.0.1\n"
          ]
        }
      ]
    },
    {
      "cell_type": "code",
      "source": [
        "with open('/content/generative ai.txt') as f:\n",
        "  text_gen_ai = f.read()"
      ],
      "metadata": {
        "id": "BS0fh8_Y6R8Q"
      },
      "execution_count": null,
      "outputs": []
    },
    {
      "cell_type": "code",
      "source": [
        "# 읽어온 파일을 잘라보도록 해요~\n",
        "from langchain.text_splitter import CharacterTextSplitter\n",
        "\n",
        "text_splitter = CharacterTextSplitter(\n",
        "    # 문단 단위로 나누어야 함으로! 개행문자 2번이 문단일 것이다,\n",
        "    separator='\\n\\n',\n",
        "\n",
        "    # 자르는 용량\n",
        "    chunk_size = 1000,\n",
        "\n",
        "    # 연속되는 문장, 문단, 글임을 알려주기 위해 일정 비율을 겹치게 만들어서 잘라줌\n",
        "    # 그 겹치는 비율을 정의해줌\n",
        "    chunk_overlap = 100,\n",
        "\n",
        "    # chunk size를 무엇을 기준으로 셀거야?를 지정해준다.\n",
        "    length_function = len\n",
        ")"
      ],
      "metadata": {
        "id": "1FHdEVo37G1Z"
      },
      "execution_count": null,
      "outputs": []
    },
    {
      "cell_type": "code",
      "source": [
        "texts = text_splitter.split_text(text_gen_ai)"
      ],
      "metadata": {
        "colab": {
          "base_uri": "https://localhost:8080/"
        },
        "id": "a47N4zqA9CVA",
        "outputId": "ffb359f0-af64-4d34-8ae9-01fa3952cbab"
      },
      "execution_count": null,
      "outputs": [
        {
          "output_type": "stream",
          "name": "stderr",
          "text": [
            "WARNING:langchain.text_splitter:Created a chunk of size 1003, which is longer than the specified 1000\n",
            "WARNING:langchain.text_splitter:Created a chunk of size 2239, which is longer than the specified 1000\n",
            "WARNING:langchain.text_splitter:Created a chunk of size 5023, which is longer than the specified 1000\n",
            "WARNING:langchain.text_splitter:Created a chunk of size 3461, which is longer than the specified 1000\n",
            "WARNING:langchain.text_splitter:Created a chunk of size 1266, which is longer than the specified 1000\n",
            "WARNING:langchain.text_splitter:Created a chunk of size 1143, which is longer than the specified 1000\n",
            "WARNING:langchain.text_splitter:Created a chunk of size 2523, which is longer than the specified 1000\n"
          ]
        }
      ]
    },
    {
      "cell_type": "code",
      "source": [
        "print(texts[0])\n",
        "print('-' * 100)\n",
        "print(texts[1])\n",
        "print('-' * 100)\n",
        "print(texts[2])"
      ],
      "metadata": {
        "colab": {
          "base_uri": "https://localhost:8080/"
        },
        "id": "Eb7IUV3Q9WIx",
        "outputId": "8f52bde8-719a-4b76-f35d-100152bdabe1"
      },
      "execution_count": null,
      "outputs": [
        {
          "output_type": "stream",
          "name": "stdout",
          "text": [
            "What is generative AI?\n",
            "Generative AI can learn from existing artifacts to generate new, realistic artifacts (at scale) that reflect the characteristics of the training data but don’t repeat it. It can produce a variety of novel content, such as images, video, music, speech, text, software code and product designs.  \n",
            "Generative AI uses a number of techniques that continue to evolve. Foremost are AI foundation models, which are trained on a broad set of unlabeled data that can be used for different tasks, with additional fine-tuning. Complex math and enormous computing power are required to create these trained models, but they are, in essence, prediction algorithms. \n",
            "Today, generative AI most commonly creates content in response to natural language requests — it doesn’t require knowledge of or entering code — but the enterprise use cases are numerous and include innovations in drug and chip design and material science development. (Also see “What are some practical uses of generative AI?”)\n",
            "----------------------------------------------------------------------------------------------------\n",
            "What’s behind the sudden hype about generative AI?\n",
            "Gartner has tracked generative AI on its Hype Cycle™ for Artificial Intelligence since 2020 (also, generative AI was among our Top Strategic Technology Trends for 2022), and the technology has moved from the Innovation Trigger phase to the Peak of Inflated Expectations. But generative AI only hit mainstream headlines in late 2022 with the launch of ChatGPT, a chatbot capable of very human-seeming interactions.\n",
            "ChatGPT, launched by OpenAI, became wildly popular overnight and galvanized public attention. (OpenAI’s DALL·E 2 tool similarly generates images from text in a related generative AI innovation.)\n",
            "Gartner sees generative AI becoming a general-purpose technology with an impact similar to that of the steam engine, electricity and the internet. The hype will subside as the reality of implementation sets in, but the impact of generative AI will grow as people and enterprises discover more innovative applications for the technology in daily work and life.\n",
            "FAQ on ChatGPT \n",
            "What are the benefits and applications of generative AI?\n",
            "Foundation models, including generative pretrained transformers (which drives ChatGPT), are among the AI architecture innovations that can be used to automate, augment humans or machines, and autonomously execute business and IT processes. \n",
            "The benefits of generative AI include faster product development, enhanced customer experience and improved employee productivity, but the specifics depend on the use case. End users should be realistic about the value they are looking to achieve, especially when using a service as is, which has major limitations. Generative AI creates artifacts that can be inaccurate or biased, making human validation essential and potentially limiting the time it saves workers. Gartner recommends connecting use cases to KPIs to ensure that any project either improves operational efficiency or creates net new revenue or better experiences.\n",
            "In a recent Gartner webinar poll of more than 2,500 executives, 38% indicated that customer experience and retention is the primary purpose of their generative AI investments. This was followed by revenue growth (26%), cost optimization (17%) and business continuity (7%).\n",
            "----------------------------------------------------------------------------------------------------\n",
            "What are the risks of generative AI?\n",
            "The risks associated with generative AI are significant and rapidly evolving. A wide array of threat actors have already used the technology to create “deep fakes” or copies of products, and generate artifacts to support increasingly complex scams.\n",
            "ChatGPT and other tools like it are trained on large amounts of publicly available data. They are not designed to be compliant with General Data Protection Regulation (GDPR) and other copyright laws, so it’s imperative to pay close attention to your enterprises’ uses of the platforms. \n",
            "Oversight risks to monitor include:\n",
            "\t•\tLack of transparency. Generative AI and ChatGPT models are unpredictable, and not even the companies behind them always understand everything about how they work.\n",
            "\t•\tAccuracy. Generative AI systems sometimes produce inaccurate and fabricated answers. Assess all outputs for accuracy, appropriateness and actual usefulness before relying on or publicly distributing information. \n",
            "\t•\tBias. You need policies or controls in place to detect biased outputs and deal with them in a manner consistent with company policy and any relevant legal requirements.\n",
            "\t•\tIntellectual property (IP) and copyright. There are currently no verifiable data governance and protection assurances regarding confidential enterprise information. Users should assume that any data or queries they enter into the ChatGPT and its competitors will become public information, and we advise enterprises to put in place controls to avoid inadvertently exposing IP. \n",
            "\t•\tCybersecurity and fraud. Enterprises must prepare for malicious actors’ use of generative AI systems for cyber and fraud attacks, such as those that use deep fakes for social engineering of personnel, and ensure mitigating controls are put in place. Confer with your cyber-insurance provider to verify the degree to which your existing policy covers AI-related breaches.\n",
            "\t•\tSustainability. Generative AI uses significant amounts of electricity. Choose vendors that reduce power consumption and leverage high-quality renewable energy to mitigate the impact on your sustainability goals.\n",
            "Gartner also recommends considering the following questions:\n",
            "\t•\tWho defines responsible use of generative AI, especially as cultural norms evolve and social engineering approaches vary across geographies? Who ensures compliance? What are the consequences for irresponsible use? \n",
            "\t•\tIn the event something goes wrong, how can individuals take action?\n",
            "\t•\tHow do users give and remove consent (opt in or opt out)? What can be learned from the privacy debate?\n",
            "\t•\tWill using generative AI help or hurt trust in your organization — and institutions overall?\n",
            "\t•\tHow can we ensure that content creators and owners keep control of their IP and are compensated fairly? What should new economic models look like? \n",
            "\t•\tWho will ensure proper functioning throughout the entire life cycle, and how will they do so? Do boards need an AI ethics lead, for example?\n",
            "Finally, it’s important to continually monitor regulatory developments and litigation regarding generative AI. China and Singapore have already put in place new regulations regarding the use of generative AI, while Italy temporarily. The U.S., Canada, India, the U.K. and the EU are currently shaping their regulatory environments.\n",
            "Also see, “What are the best practices for using generative AI?” and “Should I craft a usage policy for generative AI?”\n",
            "GenAI Risks & Opportunities \n",
            "What are some practical uses of generative AI today?\n",
            "The field of generative AI will progress rapidly in both scientific discovery and technology commercialization, but use cases are emerging quickly in creative content, content improvement, synthetic data, generative engineering and generative design. \n",
            "In-use, high-level practical applications today include the following.\n",
            "\t•\tWritten content augmentation and creation: Producing a “draft” output of text in a desired style and length\n",
            "\t•\tQuestion answering and discovery: Enabling users to locate answers to input, based on data and prompt information\n",
            "\t•\tTone: Text manipulation, to soften language or professionalize text\n",
            "\t•\tSummarization: Offering shortened versions of conversations, articles, emails and webpages\n",
            "\t•\tSimplification: Breaking down titles, creating outlines and extracting key content\n",
            "\t•\tClassification of content for specific use cases: Sorting by sentiment, topic, etc.\n",
            "\t•\tChatbot performance improvement: Bettering “sentity” extraction, whole-conversation sentiment classification and generation of journey flows from general descriptions\n",
            "\t•\tSoftware coding: Code generation, translation, explanation and verification\n",
            "Emerging use cases with long-term impacts include:\n",
            "\t•\tCreating medical images that show the future development of a disease \n",
            "\t•\tSynthetic data helping augment scarce data, mitigate bias, preserve data privacy and simulate future scenarios\n",
            "\t•\tApplications proactively suggesting additional actions to users and providing them with information\n",
            "\t•\tLegacy code modernization\n"
          ]
        }
      ]
    },
    {
      "cell_type": "code",
      "source": [
        "char_list = []\n",
        "\n",
        "# 문단 수 만큼 반복한다.\n",
        "for i in range(len(texts)):\n",
        "  char_list.append(len(texts[i]))\n",
        "\n",
        "# 페이지를 자른 모습을 보여준다.\n",
        "print(char_list)"
      ],
      "metadata": {
        "colab": {
          "base_uri": "https://localhost:8080/"
        },
        "id": "MOz87P3G-Gzq",
        "outputId": "92f2e8de-e835-4916-f472-f9e38e82ded9"
      },
      "execution_count": null,
      "outputs": [
        {
          "output_type": "stream",
          "name": "stdout",
          "text": [
            "[1003, 2238, 5022, 3460, 1265, 995, 1142, 2523, 3101]\n"
          ]
        }
      ]
    },
    {
      "cell_type": "code",
      "source": [
        "from langchain.document_loaders import PyPDFLoader\n",
        "\n",
        "loader = PyPDFLoader('/content/[정책브리프 2021-04] 탄소중립 대응을 위한 정부 정책과 동향 (1).pdf')\n",
        "pages = loader.load_and_split()"
      ],
      "metadata": {
        "id": "A-kpNBOx_Whq"
      },
      "execution_count": null,
      "outputs": []
    },
    {
      "cell_type": "markdown",
      "source": [
        "txt 파일 같은 경우는 page의 개념이 없기에 문단 단위로 split을 했지만 pdf는 page가 있기 때문에 페이지로 split"
      ],
      "metadata": {
        "id": "jXtr0RD2_3IS"
      }
    },
    {
      "cell_type": "code",
      "source": [
        "# page 단위로 잘랐을 때 총 페이지의 개수\n",
        "len(pages)"
      ],
      "metadata": {
        "colab": {
          "base_uri": "https://localhost:8080/"
        },
        "id": "kTnyDOlZ_s-x",
        "outputId": "a203a5a7-d494-4c97-d95e-95e4d0803692"
      },
      "execution_count": null,
      "outputs": [
        {
          "output_type": "execute_result",
          "data": {
            "text/plain": [
              "19"
            ]
          },
          "metadata": {},
          "execution_count": 10
        }
      ]
    },
    {
      "cell_type": "code",
      "source": [
        "from langchain.text_splitter import CharacterTextSplitter\n",
        "text_splitter = CharacterTextSplitter(\n",
        "    separator = '\\n',\n",
        "    chunk_size = 500,\n",
        "    chunk_overlap = 50,\n",
        "    length_function = len\n",
        ")"
      ],
      "metadata": {
        "id": "uWWXKbDF_x19"
      },
      "execution_count": null,
      "outputs": []
    },
    {
      "cell_type": "code",
      "source": [
        "# txt file -> split txt\n",
        "# pdf file -> split document\n",
        "texts = text_splitter.split_documents(pages)"
      ],
      "metadata": {
        "id": "ILrLMgtQAhqk"
      },
      "execution_count": null,
      "outputs": []
    },
    {
      "cell_type": "code",
      "source": [
        "# 500자 이내로 text를 잘라줍니다!\n",
        "char_list = []\n",
        "for i in range(len(texts)):\n",
        "  char_list.append(len(texts[i].page_content))\n",
        "\n",
        "print(char_list)"
      ],
      "metadata": {
        "colab": {
          "base_uri": "https://localhost:8080/"
        },
        "id": "5EmicnDkAtu8",
        "outputId": "eb2e457d-4ce3-42d4-c6a8-05a61946c978"
      },
      "execution_count": null,
      "outputs": [
        {
          "output_type": "stream",
          "name": "stdout",
          "text": [
            "[175, 239, 458, 491, 304, 495, 448, 415, 452, 452, 325, 475, 444, 324, 500, 441, 321, 477, 497, 139, 465, 431, 151, 471, 412, 458, 453, 105, 476, 345, 499, 190, 479, 417, 465, 380, 478, 388, 487, 307, 366, 78]\n"
          ]
        }
      ]
    },
    {
      "cell_type": "code",
      "source": [
        "from langchain.text_splitter import RecursiveCharacterTextSplitter\n",
        "text_splitter = RecursiveCharacterTextSplitter(\n",
        "    chunk_size = 500,\n",
        "    chunk_overlap = 50,\n",
        "    length_function = len\n",
        ")"
      ],
      "metadata": {
        "id": "WBHsNsgGBWdJ"
      },
      "execution_count": null,
      "outputs": []
    },
    {
      "cell_type": "code",
      "source": [
        "# 500자 이내로 적절하게 글을 쪼개준다.\n",
        "\n",
        "texts = text_splitter.create_documents([text_gen_ai])\n",
        "print(\"글자 수:\", len(texts[0].page_content))\n",
        "texts[0].page_content"
      ],
      "metadata": {
        "colab": {
          "base_uri": "https://localhost:8080/",
          "height": 90
        },
        "id": "gkSqh8lQCCxq",
        "outputId": "5e7253dc-70c4-4d6d-a2c3-be3eca6b7674"
      },
      "execution_count": null,
      "outputs": [
        {
          "output_type": "stream",
          "name": "stdout",
          "text": [
            "글자 수: 315\n"
          ]
        },
        {
          "output_type": "execute_result",
          "data": {
            "text/plain": [
              "'What is generative AI?\\nGenerative AI can learn from existing artifacts to generate new, realistic artifacts (at scale) that reflect the characteristics of the training data but don’t repeat it. It can produce a variety of novel content, such as images, video, music, speech, text, software code and product designs.'"
            ],
            "application/vnd.google.colaboratory.intrinsic+json": {
              "type": "string"
            }
          },
          "metadata": {},
          "execution_count": 25
        }
      ]
    },
    {
      "cell_type": "code",
      "source": [
        "char_list = []\n",
        "for i in range(len(texts)):\n",
        "  char_list.append(len(texts[i].page_content))\n",
        "\n",
        "\n",
        "print(\"페이지 별 글자 수:\", char_list)\n",
        "print(\"총 페이지 수:\", len(char_list))"
      ],
      "metadata": {
        "colab": {
          "base_uri": "https://localhost:8080/"
        },
        "id": "clKIXzGsCMcK",
        "outputId": "73e1f480-82da-4dea-e0e1-725b73a47c9b"
      },
      "execution_count": null,
      "outputs": [
        {
          "output_type": "stream",
          "name": "stdout",
          "text": [
            "페이지 별 글자 수: [315, 355, 328, 464, 194, 432, 239, 497, 181, 272, 285, 488, 386, 378, 372, 491, 421, 474, 452, 463, 471, 318, 345, 430, 391, 327, 471, 276, 411, 282, 251, 321, 495, 410, 356, 496, 497, 374, 499, 171, 141, 436, 413, 388, 489, 431, 359, 422, 444, 499, 96, 321, 198, 488, 420, 248]\n",
            "총 페이지 수: 56\n"
          ]
        }
      ]
    },
    {
      "cell_type": "markdown",
      "source": [
        "RecursiveCharacterTextSplitter를 주로 많이 쓴다.\\\n",
        "chunk_size 아래로 페이지를 쪼개준다.\\\n",
        "우리가 원하는 사이즈가 될 때까지 쪼개면서 오류가 나지 않도록 반복하여 쪼개기를 수행한다."
      ],
      "metadata": {
        "id": "2FS_ihtgC1Wa"
      }
    },
    {
      "cell_type": "markdown",
      "source": [
        "## 토큰 기반 Splitter"
      ],
      "metadata": {
        "id": "NbOqVfJaHsv5"
      }
    },
    {
      "cell_type": "code",
      "source": [
        "!pip install tiktoken"
      ],
      "metadata": {
        "id": "WqgKbTwXDIBk",
        "colab": {
          "base_uri": "https://localhost:8080/"
        },
        "outputId": "5bae443e-51e2-49ea-c39a-3bd6111eac03"
      },
      "execution_count": 28,
      "outputs": [
        {
          "output_type": "stream",
          "name": "stdout",
          "text": [
            "Collecting tiktoken\n",
            "  Downloading tiktoken-0.5.2-cp310-cp310-manylinux_2_17_x86_64.manylinux2014_x86_64.whl (2.0 MB)\n",
            "\u001b[2K     \u001b[90m━━━━━━━━━━━━━━━━━━━━━━━━━━━━━━━━━━━━━━━━\u001b[0m \u001b[32m2.0/2.0 MB\u001b[0m \u001b[31m9.6 MB/s\u001b[0m eta \u001b[36m0:00:00\u001b[0m\n",
            "\u001b[?25hRequirement already satisfied: regex>=2022.1.18 in /usr/local/lib/python3.10/dist-packages (from tiktoken) (2023.6.3)\n",
            "Requirement already satisfied: requests>=2.26.0 in /usr/local/lib/python3.10/dist-packages (from tiktoken) (2.31.0)\n",
            "Requirement already satisfied: charset-normalizer<4,>=2 in /usr/local/lib/python3.10/dist-packages (from requests>=2.26.0->tiktoken) (3.3.2)\n",
            "Requirement already satisfied: idna<4,>=2.5 in /usr/local/lib/python3.10/dist-packages (from requests>=2.26.0->tiktoken) (3.6)\n",
            "Requirement already satisfied: urllib3<3,>=1.21.1 in /usr/local/lib/python3.10/dist-packages (from requests>=2.26.0->tiktoken) (2.0.7)\n",
            "Requirement already satisfied: certifi>=2017.4.17 in /usr/local/lib/python3.10/dist-packages (from requests>=2.26.0->tiktoken) (2023.11.17)\n",
            "Installing collected packages: tiktoken\n",
            "\u001b[31mERROR: pip's dependency resolver does not currently take into account all the packages that are installed. This behaviour is the source of the following dependency conflicts.\n",
            "llmx 0.0.15a0 requires cohere, which is not installed.\n",
            "llmx 0.0.15a0 requires openai, which is not installed.\u001b[0m\u001b[31m\n",
            "\u001b[0mSuccessfully installed tiktoken-0.5.2\n"
          ]
        }
      ]
    },
    {
      "cell_type": "code",
      "source": [
        "import tiktoken"
      ],
      "metadata": {
        "id": "joHYwsTmH3VC"
      },
      "execution_count": 30,
      "outputs": []
    },
    {
      "cell_type": "code",
      "source": [
        "# tokenizer 만들기\n",
        "tokenizer = tiktoken.get_encoding('cl100k_base')\n",
        "\n",
        "# return token 개수 -> encode 사\n",
        "def tiktoken_len(text):\n",
        "  tokens = tokenizer.encode(text)\n",
        "  return len(tokens)"
      ],
      "metadata": {
        "id": "LQa5TknJIap5"
      },
      "execution_count": 31,
      "outputs": []
    },
    {
      "cell_type": "code",
      "source": [
        "print(texts[1].page_content) # split한 text 출력\n",
        "print(len(texts[1].page_content)) # 문자의 수 출력\n",
        "print(tiktoken_len(texts[1].page_content)) # token의 수 출력"
      ],
      "metadata": {
        "colab": {
          "base_uri": "https://localhost:8080/"
        },
        "id": "NZaf6sHLJKnc",
        "outputId": "279fea42-3e47-4dc0-97b1-711a13522f6f"
      },
      "execution_count": 32,
      "outputs": [
        {
          "output_type": "stream",
          "name": "stdout",
          "text": [
            "Generative AI uses a number of techniques that continue to evolve. Foremost are AI foundation models, which are trained on a broad set of unlabeled data that can be used for different tasks, with additional fine-tuning. Complex math and enormous computing power are required to create these trained models, but they are, in essence, prediction algorithms.\n",
            "355\n",
            "70\n"
          ]
        }
      ]
    },
    {
      "cell_type": "code",
      "source": [
        "text_splitter = RecursiveCharacterTextSplitter(\n",
        "    chunk_size = 100,\n",
        "    chunk_overlap = 50,\n",
        "    length_function = tiktoken_len # 우리가 token의 개수를 세는 함수로 기준을 바꿔 줌!\n",
        ")"
      ],
      "metadata": {
        "id": "0fmbtSmiJdqJ"
      },
      "execution_count": 38,
      "outputs": []
    },
    {
      "cell_type": "code",
      "source": [
        "texts = text_splitter.split_documents(pages)\n",
        "print(len(texts[1].page_content))\n",
        "print(tiktoken_len(texts[1].page_content))"
      ],
      "metadata": {
        "colab": {
          "base_uri": "https://localhost:8080/"
        },
        "id": "HAV5r6VyKX1X",
        "outputId": "90dce9aa-b0e0-4a13-80a3-e4587f5a0c5a"
      },
      "execution_count": 39,
      "outputs": [
        {
          "output_type": "stream",
          "name": "stdout",
          "text": [
            "75\n",
            "94\n"
          ]
        }
      ]
    },
    {
      "cell_type": "markdown",
      "source": [
        "한글 문서여서 토큰 개수가 단어의 개수보다 많아지는 문제! -> 한국어가 유니코드 문자이기 때문이다.\\ 따라서 한국어 쓸 때는 주의가 필요하다."
      ],
      "metadata": {
        "id": "e5RiKoIbLZ0U"
      }
    },
    {
      "cell_type": "code",
      "source": [],
      "metadata": {
        "id": "H1_OYlazKqcU"
      },
      "execution_count": null,
      "outputs": []
    }
  ]
}