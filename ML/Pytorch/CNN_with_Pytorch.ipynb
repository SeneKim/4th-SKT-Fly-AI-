import pandas as pd
import torch
from torch.autograd import Variable
import torch.nn as nn
import torch.nn.functional as F

import torchvision
import torchvision.transforms as transforms
from torch.utils.data import Dataset, DataLoa
import numpy as np
import matplotlib.pyplot as plt
import seaborn as sns
%matplotlib inline
